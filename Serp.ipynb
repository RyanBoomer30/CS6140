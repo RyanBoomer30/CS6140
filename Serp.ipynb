{
 "cells": [
  {
   "cell_type": "code",
   "execution_count": 4,
   "metadata": {
    "id": "2doBMOYlTNvj"
   },
   "outputs": [
    {
     "name": "stdout",
     "output_type": "stream",
     "text": [
      "Requirement already satisfied: requests in /Users/ryantran/.pyenv/versions/3.10.13/lib/python3.10/site-packages (2.31.0)\n",
      "Requirement already satisfied: pandas in /Users/ryantran/.pyenv/versions/3.10.13/lib/python3.10/site-packages (2.2.3)\n",
      "Requirement already satisfied: charset-normalizer<4,>=2 in /Users/ryantran/.pyenv/versions/3.10.13/lib/python3.10/site-packages (from requests) (3.2.0)\n",
      "Requirement already satisfied: idna<4,>=2.5 in /Users/ryantran/.pyenv/versions/3.10.13/lib/python3.10/site-packages (from requests) (3.4)\n",
      "Requirement already satisfied: urllib3<3,>=1.21.1 in /Users/ryantran/.pyenv/versions/3.10.13/lib/python3.10/site-packages (from requests) (2.0.4)\n",
      "Requirement already satisfied: certifi>=2017.4.17 in /Users/ryantran/.pyenv/versions/3.10.13/lib/python3.10/site-packages (from requests) (2023.7.22)\n",
      "Requirement already satisfied: numpy>=1.22.4 in /Users/ryantran/.pyenv/versions/3.10.13/lib/python3.10/site-packages (from pandas) (2.2.4)\n",
      "Requirement already satisfied: python-dateutil>=2.8.2 in /Users/ryantran/.pyenv/versions/3.10.13/lib/python3.10/site-packages (from pandas) (2.8.2)\n",
      "Requirement already satisfied: pytz>=2020.1 in /Users/ryantran/.pyenv/versions/3.10.13/lib/python3.10/site-packages (from pandas) (2023.3.post1)\n",
      "Requirement already satisfied: tzdata>=2022.7 in /Users/ryantran/.pyenv/versions/3.10.13/lib/python3.10/site-packages (from pandas) (2023.3)\n",
      "Requirement already satisfied: six>=1.5 in /Users/ryantran/.pyenv/versions/3.10.13/lib/python3.10/site-packages (from python-dateutil>=2.8.2->pandas) (1.16.0)\n",
      "\n",
      "\u001b[1m[\u001b[0m\u001b[34;49mnotice\u001b[0m\u001b[1;39;49m]\u001b[0m\u001b[39;49m A new release of pip is available: \u001b[0m\u001b[31;49m23.3.1\u001b[0m\u001b[39;49m -> \u001b[0m\u001b[32;49m25.0.1\u001b[0m\n",
      "\u001b[1m[\u001b[0m\u001b[34;49mnotice\u001b[0m\u001b[1;39;49m]\u001b[0m\u001b[39;49m To update, run: \u001b[0m\u001b[32;49mpip install --upgrade pip\u001b[0m\n",
      "Collected 100 headlines so far...\n",
      "Collected 200 headlines so far...\n",
      "Collected 300 headlines so far...\n"
     ]
    },
    {
     "ename": "KeyboardInterrupt",
     "evalue": "",
     "output_type": "error",
     "traceback": [
      "\u001b[0;31m---------------------------------------------------------------------------\u001b[0m",
      "\u001b[0;31mKeyboardInterrupt\u001b[0m                         Traceback (most recent call last)",
      "Input \u001b[0;32mIn [4]\u001b[0m, in \u001b[0;36m<cell line: 29>\u001b[0;34m()\u001b[0m\n\u001b[1;32m     47\u001b[0m     news_data\u001b[38;5;241m.\u001b[39mappend({\n\u001b[1;32m     48\u001b[0m         \u001b[38;5;124m\"\u001b[39m\u001b[38;5;124mTitle\u001b[39m\u001b[38;5;124m\"\u001b[39m: item\u001b[38;5;241m.\u001b[39mget(\u001b[38;5;124m\"\u001b[39m\u001b[38;5;124mtitle\u001b[39m\u001b[38;5;124m\"\u001b[39m),\n\u001b[1;32m     49\u001b[0m         \u001b[38;5;124m\"\u001b[39m\u001b[38;5;124mSource\u001b[39m\u001b[38;5;124m\"\u001b[39m: item\u001b[38;5;241m.\u001b[39mget(\u001b[38;5;124m\"\u001b[39m\u001b[38;5;124msource\u001b[39m\u001b[38;5;124m\"\u001b[39m),\n\u001b[1;32m     50\u001b[0m         \u001b[38;5;124m\"\u001b[39m\u001b[38;5;124mPublished\u001b[39m\u001b[38;5;124m\"\u001b[39m: item\u001b[38;5;241m.\u001b[39mget(\u001b[38;5;124m\"\u001b[39m\u001b[38;5;124mdate\u001b[39m\u001b[38;5;124m\"\u001b[39m),\n\u001b[1;32m     51\u001b[0m         \u001b[38;5;124m\"\u001b[39m\u001b[38;5;124mLink\u001b[39m\u001b[38;5;124m\"\u001b[39m: item\u001b[38;5;241m.\u001b[39mget(\u001b[38;5;124m\"\u001b[39m\u001b[38;5;124mlink\u001b[39m\u001b[38;5;124m\"\u001b[39m)\n\u001b[1;32m     52\u001b[0m     })\n\u001b[1;32m     54\u001b[0m \u001b[38;5;28mprint\u001b[39m(\u001b[38;5;124mf\u001b[39m\u001b[38;5;124m\"\u001b[39m\u001b[38;5;124mCollected \u001b[39m\u001b[38;5;132;01m{\u001b[39;00m\u001b[38;5;28mlen\u001b[39m(news_data)\u001b[38;5;132;01m}\u001b[39;00m\u001b[38;5;124m headlines so far...\u001b[39m\u001b[38;5;124m\"\u001b[39m)\n\u001b[0;32m---> 55\u001b[0m \u001b[43mtime\u001b[49m\u001b[38;5;241;43m.\u001b[39;49m\u001b[43msleep\u001b[49m\u001b[43m(\u001b[49m\u001b[38;5;241;43m1.5\u001b[39;49m\u001b[43m)\u001b[49m\n\u001b[1;32m     57\u001b[0m \u001b[38;5;66;03m# 🧾 Save to CSV\u001b[39;00m\n\u001b[1;32m     58\u001b[0m df \u001b[38;5;241m=\u001b[39m pd\u001b[38;5;241m.\u001b[39mDataFrame(news_data)\n",
      "\u001b[0;31mKeyboardInterrupt\u001b[0m: "
     ]
    }
   ],
   "source": [
    "# 🛠️ Install required libraries\n",
    "!pip install requests pandas\n",
    "\n",
    "# 📦 Imports\n",
    "import requests\n",
    "import time\n",
    "import pandas as pd\n",
    "\n",
    "# 🔑 Your SerpAPI Key\n",
    "API_KEY = \"72091d6981c17f40f4a93d1cab3081f67e66f2424f6237a7f9f4b3463933549d\"\n",
    "\n",
    "QUERIES = [\n",
    "    \"Elon Musk politics\",\n",
    "    \"Battery Technology\",\n",
    "    \"Autonomous Vehicles\",\n",
    "    \"Cybertruck\",\n",
    "    \"BYD\",\n",
    "    \"Full-self driving Cars\",\n",
    "    \"Elon on X\",\n",
    "    \"Doge\",\n",
    "    \"TESLA earning report\"\n",
    "]\n",
    "\n",
    "NUM_RESULTS = 200\n",
    "RESULTS_PER_PAGE = 10\n",
    "\n",
    "news_data = []\n",
    "\n",
    "for query in QUERIES:\n",
    "    # 🔁 Loop through pages of Google News results\n",
    "    for page in range(0, NUM_RESULTS // RESULTS_PER_PAGE):\n",
    "        params = {\n",
    "            \"q\": query,\n",
    "            \"engine\": \"google_news\",\n",
    "            \"api_key\": API_KEY,\n",
    "            \"hl\": \"en\",\n",
    "            \"gl\": \"us\",\n",
    "            \"num\": RESULTS_PER_PAGE,\n",
    "            \"start\": page * RESULTS_PER_PAGE\n",
    "        }\n",
    "\n",
    "        response = requests.get(\"https://serpapi.com/search\", params=params)\n",
    "        data = response.json()\n",
    "\n",
    "        news_results = data.get(\"news_results\", [])\n",
    "        for item in news_results:\n",
    "            news_data.append({\n",
    "                \"Title\": item.get(\"title\"),\n",
    "                \"Source\": item.get(\"source\"),\n",
    "                \"Published\": item.get(\"date\"),\n",
    "                \"Link\": item.get(\"link\")\n",
    "            })\n",
    "\n",
    "        print(f\"Collected {len(news_data)} headlines so far...\")\n",
    "        time.sleep(1.5)\n",
    "\n",
    "        # 🧾 Save to CSV\n",
    "        df = pd.DataFrame(news_data)\n",
    "        csv_filename = \"data/news_headlines_2022.csv\"\n",
    "        df.to_csv(csv_filename, mode='a', index=False, header=False)\n",
    "\n",
    "    print(f\"\\n✅ Done! Saved {len(news_data)} headlines to '{csv_filename}'.\")\n",
    "\n",
    "# 📥 Download the file\n",
    "from google.colab import files\n",
    "files.download(csv_filename)"
   ]
  },
  {
   "cell_type": "code",
   "execution_count": null,
   "metadata": {},
   "outputs": [],
   "source": []
  }
 ],
 "metadata": {
  "colab": {
   "provenance": []
  },
  "kernelspec": {
   "display_name": "Python 3 (ipykernel)",
   "language": "python",
   "name": "python3"
  },
  "language_info": {
   "codemirror_mode": {
    "name": "ipython",
    "version": 3
   },
   "file_extension": ".py",
   "mimetype": "text/x-python",
   "name": "python",
   "nbconvert_exporter": "python",
   "pygments_lexer": "ipython3",
   "version": "3.9.10"
  }
 },
 "nbformat": 4,
 "nbformat_minor": 1
}
