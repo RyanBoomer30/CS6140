{
  "cells": [
    {
      "cell_type": "code",
      "execution_count": null,
      "metadata": {
        "id": "2doBMOYlTNvj"
      },
      "outputs": [],
      "source": [
        "# 🛠️ Install required libraries (optional: if not already installed)\n",
        "!pip install requests\n",
        "\n",
        "# 📦 Imports\n",
        "import requests\n",
        "import time\n",
        "\n",
        "# 🔑 Set your SerpAPI Key\n",
        "API_KEY = \"d34c712110e9f258c1618988ac3078341712ea83223ca8a9d24a02a65ecf54dc\"  # Replace this with your actual key\n",
        "QUERY = \"Elon Musk \"   # Change to your desired search\n",
        "NUM_RESULTS = 200\n",
        "RESULTS_PER_PAGE = 10\n",
        "\n",
        "all_headlines = []\n",
        "\n",
        "# 🔁 Fetch headlines page by page\n",
        "for start in range(0, NUM_RESULTS, RESULTS_PER_PAGE):\n",
        "    params = {\n",
        "        \"q\": QUERY,\n",
        "        \"hl\": \"en\",\n",
        "        \"gl\": \"us\",\n",
        "        \"engine\": \"google\",\n",
        "        \"api_key\": API_KEY,\n",
        "        \"start\": start\n",
        "    }\n",
        "\n",
        "    response = requests.get(\"https://serpapi.com/search\", params=params)\n",
        "    data = response.json()\n",
        "\n",
        "    for item in data.get(\"organic_results\", []):\n",
        "        title = item.get(\"title\")\n",
        "        if title:\n",
        "            all_headlines.append(title)\n",
        "\n",
        "    print(f\"Fetched {len(all_headlines)} headlines so far...\")\n",
        "    time.sleep(1.5)  # ⏱️ Pause to avoid hitting rate limits\n",
        "\n",
        "# 📝 Save headlines to file\n",
        "filename = \"headlines.txt\"\n",
        "with open(filename, \"w\", encoding=\"utf-8\") as f:\n",
        "    for title in all_headlines:\n",
        "        f.write(title + \"\\n\")\n",
        "\n",
        "print(f\"\\n✅ Done! {len(all_headlines)} headlines saved to '{filename}'.\")\n",
        "\n",
        "# 📥 Download the file\n",
        "from google.colab import files\n",
        "files.download(filename)\n"
      ]
    }
  ],
  "metadata": {
    "colab": {
      "provenance": []
    },
    "kernelspec": {
      "display_name": "Python 3",
      "name": "python3"
    },
    "language_info": {
      "name": "python"
    }
  },
  "nbformat": 4,
  "nbformat_minor": 0
}
