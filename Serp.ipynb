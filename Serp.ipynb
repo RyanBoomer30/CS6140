{
 "cells": [
  {
   "cell_type": "code",
   "execution_count": null,
   "metadata": {
    "id": "2doBMOYlTNvj"
   },
   "outputs": [],
   "source": [
    "# 🛠️ Install required libraries\n",
    "!pip install requests pandas\n",
    "\n",
    "# 📦 Imports\n",
    "import requests\n",
    "import time\n",
    "import pandas as pd\n",
    "\n",
    "# 🔑 Your SerpAPI Key\n",
    "API_KEY = \"72091d6981c17f40f4a93d1cab3081f67e66f2424f6237a7f9f4b3463933549d\"\n",
    "\n",
    "QUERIES = [\n",
    "    \"Elon Musk politics\",\n",
    "    \"Battery Technology\",\n",
    "    \"Autonomous Vehicles\",\n",
    "    \"Cybertruck\",\n",
    "    \"BYD\",\n",
    "    \"Full-self driving Cars\",\n",
    "    \"Elon on X\",\n",
    "    \"Doge\",\n",
    "    \"TESLA earning report\"\n",
    "]\n",
    "\n",
    "NUM_RESULTS = 200\n",
    "RESULTS_PER_PAGE = 10\n",
    "\n",
    "news_data = []\n",
    "\n",
    "for query in QUERIES:\n",
    "    # 🔁 Loop through pages of Google News results\n",
    "    for page in range(0, NUM_RESULTS // RESULTS_PER_PAGE):\n",
    "        params = {\n",
    "            \"q\": QUERY,\n",
    "            \"engine\": \"google_news\",\n",
    "            \"api_key\": API_KEY,\n",
    "            \"hl\": \"en\",\n",
    "            \"gl\": \"us\",\n",
    "            \"num\": RESULTS_PER_PAGE,\n",
    "            \"start\": page * RESULTS_PER_PAGE\n",
    "        }\n",
    "\n",
    "        response = requests.get(\"https://serpapi.com/search\", params=params)\n",
    "        data = response.json()\n",
    "\n",
    "        news_results = data.get(\"news_results\", [])\n",
    "        for item in news_results:\n",
    "            news_data.append({\n",
    "                \"Title\": item.get(\"title\"),\n",
    "                \"Source\": item.get(\"source\"),\n",
    "                \"Published\": item.get(\"date\"),\n",
    "                \"Link\": item.get(\"link\")\n",
    "            })\n",
    "\n",
    "        print(f\"Collected {len(news_data)} headlines so far...\")\n",
    "        time.sleep(1.5)\n",
    "\n",
    "    # 🧾 Save to CSV\n",
    "    df = pd.DataFrame(news_data)\n",
    "    csv_filename = \"news_headlines_dataset.csv\"\n",
    "    df.to_csv(csv_filename, mode='a', index=False, header=False)\n",
    "\n",
    "    print(f\"\\n✅ Done! Saved {len(news_data)} headlines to '{csv_filename}'.\")\n",
    "\n",
    "# 📥 Download the file\n",
    "from google.colab import files\n",
    "files.download(csv_filename)"
   ]
  }
 ],
 "metadata": {
  "colab": {
   "provenance": []
  },
  "kernelspec": {
   "display_name": "Python 3 (ipykernel)",
   "language": "python",
   "name": "python3"
  },
  "language_info": {
   "codemirror_mode": {
    "name": "ipython",
    "version": 3
   },
   "file_extension": ".py",
   "mimetype": "text/x-python",
   "name": "python",
   "nbconvert_exporter": "python",
   "pygments_lexer": "ipython3",
   "version": "3.9.10"
  }
 },
 "nbformat": 4,
 "nbformat_minor": 1
}
